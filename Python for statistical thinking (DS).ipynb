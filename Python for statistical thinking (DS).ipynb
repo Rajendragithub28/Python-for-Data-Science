{
 "cells": [
  {
   "cell_type": "raw",
   "id": "9e03cc38",
   "metadata": {},
   "source": [
    "Q1.      The following is the frequency distribution of the number of telephone calls received in 245 successive one minute intervals at an exchange:\n",
    "\n",
    "Number of Calls\n",
    "\n",
    "0 1 2 3 4 5 6 7\n",
    "\n",
    "Frequency\n",
    "\n",
    "14 21 25 43 51 40 39 12"
   ]
  },
  {
   "cell_type": "code",
   "execution_count": 1,
   "id": "c25aead9",
   "metadata": {},
   "outputs": [],
   "source": [
    "import pandas as pd\n",
    "import numpy as np\n",
    "import statistics"
   ]
  },
  {
   "cell_type": "code",
   "execution_count": 2,
   "id": "eb6b1726",
   "metadata": {},
   "outputs": [
    {
     "data": {
      "text/html": [
       "<div>\n",
       "<style scoped>\n",
       "    .dataframe tbody tr th:only-of-type {\n",
       "        vertical-align: middle;\n",
       "    }\n",
       "\n",
       "    .dataframe tbody tr th {\n",
       "        vertical-align: top;\n",
       "    }\n",
       "\n",
       "    .dataframe thead th {\n",
       "        text-align: right;\n",
       "    }\n",
       "</style>\n",
       "<table border=\"1\" class=\"dataframe\">\n",
       "  <thead>\n",
       "    <tr style=\"text-align: right;\">\n",
       "      <th></th>\n",
       "      <th>Number_of_calls</th>\n",
       "      <th>Frequency</th>\n",
       "    </tr>\n",
       "  </thead>\n",
       "  <tbody>\n",
       "    <tr>\n",
       "      <th>0</th>\n",
       "      <td>0</td>\n",
       "      <td>14</td>\n",
       "    </tr>\n",
       "    <tr>\n",
       "      <th>1</th>\n",
       "      <td>1</td>\n",
       "      <td>21</td>\n",
       "    </tr>\n",
       "    <tr>\n",
       "      <th>2</th>\n",
       "      <td>2</td>\n",
       "      <td>25</td>\n",
       "    </tr>\n",
       "    <tr>\n",
       "      <th>3</th>\n",
       "      <td>3</td>\n",
       "      <td>43</td>\n",
       "    </tr>\n",
       "    <tr>\n",
       "      <th>4</th>\n",
       "      <td>4</td>\n",
       "      <td>51</td>\n",
       "    </tr>\n",
       "    <tr>\n",
       "      <th>5</th>\n",
       "      <td>5</td>\n",
       "      <td>40</td>\n",
       "    </tr>\n",
       "    <tr>\n",
       "      <th>6</th>\n",
       "      <td>6</td>\n",
       "      <td>39</td>\n",
       "    </tr>\n",
       "    <tr>\n",
       "      <th>7</th>\n",
       "      <td>7</td>\n",
       "      <td>12</td>\n",
       "    </tr>\n",
       "  </tbody>\n",
       "</table>\n",
       "</div>"
      ],
      "text/plain": [
       "   Number_of_calls  Frequency\n",
       "0                0         14\n",
       "1                1         21\n",
       "2                2         25\n",
       "3                3         43\n",
       "4                4         51\n",
       "5                5         40\n",
       "6                6         39\n",
       "7                7         12"
      ]
     },
     "execution_count": 2,
     "metadata": {},
     "output_type": "execute_result"
    }
   ],
   "source": [
    "table = {\n",
    "    \n",
    "    'Number_of_calls':[0,1,2,3,4,5,6,7],\n",
    "    'Frequency':[14,21,25,43,51,40,39,12]\n",
    "}\n",
    "df = pd.DataFrame(table)\n",
    "df"
   ]
  },
  {
   "cell_type": "markdown",
   "id": "04429415",
   "metadata": {},
   "source": [
    "### Aa> Finding mean"
   ]
  },
  {
   "cell_type": "code",
   "execution_count": 4,
   "id": "bd6f1e36",
   "metadata": {},
   "outputs": [
    {
     "name": "stdout",
     "output_type": "stream",
     "text": [
      "Mean is : 3.763265306122449\n"
     ]
    },
    {
     "data": {
      "text/html": [
       "<div>\n",
       "<style scoped>\n",
       "    .dataframe tbody tr th:only-of-type {\n",
       "        vertical-align: middle;\n",
       "    }\n",
       "\n",
       "    .dataframe tbody tr th {\n",
       "        vertical-align: top;\n",
       "    }\n",
       "\n",
       "    .dataframe thead th {\n",
       "        text-align: right;\n",
       "    }\n",
       "</style>\n",
       "<table border=\"1\" class=\"dataframe\">\n",
       "  <thead>\n",
       "    <tr style=\"text-align: right;\">\n",
       "      <th></th>\n",
       "      <th>Number_of_calls</th>\n",
       "      <th>Frequency</th>\n",
       "      <th>call*freq</th>\n",
       "    </tr>\n",
       "  </thead>\n",
       "  <tbody>\n",
       "    <tr>\n",
       "      <th>0</th>\n",
       "      <td>0</td>\n",
       "      <td>14</td>\n",
       "      <td>0</td>\n",
       "    </tr>\n",
       "    <tr>\n",
       "      <th>1</th>\n",
       "      <td>1</td>\n",
       "      <td>21</td>\n",
       "      <td>21</td>\n",
       "    </tr>\n",
       "    <tr>\n",
       "      <th>2</th>\n",
       "      <td>2</td>\n",
       "      <td>25</td>\n",
       "      <td>50</td>\n",
       "    </tr>\n",
       "    <tr>\n",
       "      <th>3</th>\n",
       "      <td>3</td>\n",
       "      <td>43</td>\n",
       "      <td>129</td>\n",
       "    </tr>\n",
       "    <tr>\n",
       "      <th>4</th>\n",
       "      <td>4</td>\n",
       "      <td>51</td>\n",
       "      <td>204</td>\n",
       "    </tr>\n",
       "    <tr>\n",
       "      <th>5</th>\n",
       "      <td>5</td>\n",
       "      <td>40</td>\n",
       "      <td>200</td>\n",
       "    </tr>\n",
       "    <tr>\n",
       "      <th>6</th>\n",
       "      <td>6</td>\n",
       "      <td>39</td>\n",
       "      <td>234</td>\n",
       "    </tr>\n",
       "    <tr>\n",
       "      <th>7</th>\n",
       "      <td>7</td>\n",
       "      <td>12</td>\n",
       "      <td>84</td>\n",
       "    </tr>\n",
       "  </tbody>\n",
       "</table>\n",
       "</div>"
      ],
      "text/plain": [
       "   Number_of_calls  Frequency  call*freq\n",
       "0                0         14          0\n",
       "1                1         21         21\n",
       "2                2         25         50\n",
       "3                3         43        129\n",
       "4                4         51        204\n",
       "5                5         40        200\n",
       "6                6         39        234\n",
       "7                7         12         84"
      ]
     },
     "execution_count": 4,
     "metadata": {},
     "output_type": "execute_result"
    }
   ],
   "source": [
    "total_fre= df['Number_of_calls']*df['Frequency']\n",
    "df['call*freq']= total_fre\n",
    "Mean = df['call*freq'].sum()/df['Frequency'].sum()\n",
    "print('Mean is :',Mean)\n",
    "df"
   ]
  },
  {
   "cell_type": "markdown",
   "id": "21ffeba1",
   "metadata": {},
   "source": [
    "### Ab> Finding Median"
   ]
  },
  {
   "cell_type": "code",
   "execution_count": 7,
   "id": "f4a33512",
   "metadata": {},
   "outputs": [
    {
     "name": "stdout",
     "output_type": "stream",
     "text": [
      "Median of the table is:  4\n"
     ]
    },
    {
     "data": {
      "text/html": [
       "<div>\n",
       "<style scoped>\n",
       "    .dataframe tbody tr th:only-of-type {\n",
       "        vertical-align: middle;\n",
       "    }\n",
       "\n",
       "    .dataframe tbody tr th {\n",
       "        vertical-align: top;\n",
       "    }\n",
       "\n",
       "    .dataframe thead th {\n",
       "        text-align: right;\n",
       "    }\n",
       "</style>\n",
       "<table border=\"1\" class=\"dataframe\">\n",
       "  <thead>\n",
       "    <tr style=\"text-align: right;\">\n",
       "      <th></th>\n",
       "      <th>Number_of_calls</th>\n",
       "      <th>Frequency</th>\n",
       "      <th>call*freq</th>\n",
       "      <th>Cumulative Freq</th>\n",
       "    </tr>\n",
       "  </thead>\n",
       "  <tbody>\n",
       "    <tr>\n",
       "      <th>0</th>\n",
       "      <td>0</td>\n",
       "      <td>14</td>\n",
       "      <td>0</td>\n",
       "      <td>14</td>\n",
       "    </tr>\n",
       "    <tr>\n",
       "      <th>1</th>\n",
       "      <td>1</td>\n",
       "      <td>21</td>\n",
       "      <td>21</td>\n",
       "      <td>35</td>\n",
       "    </tr>\n",
       "    <tr>\n",
       "      <th>2</th>\n",
       "      <td>2</td>\n",
       "      <td>25</td>\n",
       "      <td>50</td>\n",
       "      <td>60</td>\n",
       "    </tr>\n",
       "    <tr>\n",
       "      <th>3</th>\n",
       "      <td>3</td>\n",
       "      <td>43</td>\n",
       "      <td>129</td>\n",
       "      <td>103</td>\n",
       "    </tr>\n",
       "    <tr>\n",
       "      <th>4</th>\n",
       "      <td>4</td>\n",
       "      <td>51</td>\n",
       "      <td>204</td>\n",
       "      <td>154</td>\n",
       "    </tr>\n",
       "    <tr>\n",
       "      <th>5</th>\n",
       "      <td>5</td>\n",
       "      <td>40</td>\n",
       "      <td>200</td>\n",
       "      <td>194</td>\n",
       "    </tr>\n",
       "    <tr>\n",
       "      <th>6</th>\n",
       "      <td>6</td>\n",
       "      <td>39</td>\n",
       "      <td>234</td>\n",
       "      <td>233</td>\n",
       "    </tr>\n",
       "    <tr>\n",
       "      <th>7</th>\n",
       "      <td>7</td>\n",
       "      <td>12</td>\n",
       "      <td>84</td>\n",
       "      <td>245</td>\n",
       "    </tr>\n",
       "  </tbody>\n",
       "</table>\n",
       "</div>"
      ],
      "text/plain": [
       "   Number_of_calls  Frequency  call*freq  Cumulative Freq\n",
       "0                0         14          0               14\n",
       "1                1         21         21               35\n",
       "2                2         25         50               60\n",
       "3                3         43        129              103\n",
       "4                4         51        204              154\n",
       "5                5         40        200              194\n",
       "6                6         39        234              233\n",
       "7                7         12         84              245"
      ]
     },
     "execution_count": 7,
     "metadata": {},
     "output_type": "execute_result"
    }
   ],
   "source": [
    "df['Cumulative Freq']= df['Frequency'].cumsum()\n",
    "def mid_cum_valu():\n",
    "    x=df['Frequency'].sum()\n",
    "    if x%2==0:\n",
    "        return x/2\n",
    "    else:\n",
    "        return (x+1)/2\n",
    "mid_cum_valu()\n",
    "def mid_cum_valu_row_index():\n",
    "    y=df['Cumulative Freq']\n",
    "    for i,count in enumerate(y):\n",
    "        while count>= mid_cum_valu():\n",
    "            return i\n",
    "mid_cum_valu_row_index()\n",
    "Median = df['Number_of_calls'][mid_cum_valu_row_index()]\n",
    "print('Median of the table is: ',Median)\n",
    "df"
   ]
  },
  {
   "cell_type": "markdown",
   "id": "960b3792",
   "metadata": {},
   "source": [
    "### Ac> Finding Mode"
   ]
  },
  {
   "cell_type": "code",
   "execution_count": 12,
   "id": "9d65d3c5",
   "metadata": {},
   "outputs": [
    {
     "name": "stdout",
     "output_type": "stream",
     "text": [
      "Mode of the table is:  4\n"
     ]
    }
   ],
   "source": [
    "def max_freq_val():\n",
    "    z=df['Frequency'].max()\n",
    "    return z\n",
    "max_freq_val()\n",
    "def max_freq_index():\n",
    "    for j,count in enumerate(df['Frequency']):\n",
    "        while count == max_freq_val():\n",
    "            return j\n",
    "max_freq_index()\n",
    "Mode = df['Number_of_calls'][max_freq_index()]\n",
    "print('Mode of the table is: ',Mode)"
   ]
  },
  {
   "cell_type": "markdown",
   "id": "76431b85",
   "metadata": {},
   "source": [
    "### Ad> Finding Range"
   ]
  },
  {
   "cell_type": "code",
   "execution_count": 13,
   "id": "ef49237e",
   "metadata": {},
   "outputs": [
    {
     "name": "stdout",
     "output_type": "stream",
     "text": [
      "Range is: 7\n"
     ]
    }
   ],
   "source": [
    "Range = df['Number_of_calls'].max()-df['Number_of_calls'].min()\n",
    "print('Range is:',Range)"
   ]
  },
  {
   "cell_type": "markdown",
   "id": "ed44be9e",
   "metadata": {},
   "source": [
    "### Ae> Finding Standard Deviation"
   ]
  },
  {
   "cell_type": "code",
   "execution_count": 14,
   "id": "62e9890d",
   "metadata": {},
   "outputs": [
    {
     "name": "stdout",
     "output_type": "stream",
     "text": [
      "Standard_deviation is:  1.858537265256566\n"
     ]
    },
    {
     "data": {
      "text/html": [
       "<div>\n",
       "<style scoped>\n",
       "    .dataframe tbody tr th:only-of-type {\n",
       "        vertical-align: middle;\n",
       "    }\n",
       "\n",
       "    .dataframe tbody tr th {\n",
       "        vertical-align: top;\n",
       "    }\n",
       "\n",
       "    .dataframe thead th {\n",
       "        text-align: right;\n",
       "    }\n",
       "</style>\n",
       "<table border=\"1\" class=\"dataframe\">\n",
       "  <thead>\n",
       "    <tr style=\"text-align: right;\">\n",
       "      <th></th>\n",
       "      <th>Number_of_calls</th>\n",
       "      <th>Frequency</th>\n",
       "      <th>call*freq</th>\n",
       "      <th>Cumulative Freq</th>\n",
       "      <th>(xi-u)^2</th>\n",
       "      <th>(xi-u*f)^2</th>\n",
       "    </tr>\n",
       "  </thead>\n",
       "  <tbody>\n",
       "    <tr>\n",
       "      <th>0</th>\n",
       "      <td>0</td>\n",
       "      <td>14</td>\n",
       "      <td>0</td>\n",
       "      <td>14</td>\n",
       "      <td>14.162166</td>\n",
       "      <td>198.270321</td>\n",
       "    </tr>\n",
       "    <tr>\n",
       "      <th>1</th>\n",
       "      <td>1</td>\n",
       "      <td>21</td>\n",
       "      <td>21</td>\n",
       "      <td>35</td>\n",
       "      <td>7.635635</td>\n",
       "      <td>160.348338</td>\n",
       "    </tr>\n",
       "    <tr>\n",
       "      <th>2</th>\n",
       "      <td>2</td>\n",
       "      <td>25</td>\n",
       "      <td>50</td>\n",
       "      <td>60</td>\n",
       "      <td>3.109105</td>\n",
       "      <td>77.727613</td>\n",
       "    </tr>\n",
       "    <tr>\n",
       "      <th>3</th>\n",
       "      <td>3</td>\n",
       "      <td>43</td>\n",
       "      <td>129</td>\n",
       "      <td>103</td>\n",
       "      <td>0.582574</td>\n",
       "      <td>25.050679</td>\n",
       "    </tr>\n",
       "    <tr>\n",
       "      <th>4</th>\n",
       "      <td>4</td>\n",
       "      <td>51</td>\n",
       "      <td>204</td>\n",
       "      <td>154</td>\n",
       "      <td>0.056043</td>\n",
       "      <td>2.858209</td>\n",
       "    </tr>\n",
       "    <tr>\n",
       "      <th>5</th>\n",
       "      <td>5</td>\n",
       "      <td>40</td>\n",
       "      <td>200</td>\n",
       "      <td>194</td>\n",
       "      <td>1.529513</td>\n",
       "      <td>61.180508</td>\n",
       "    </tr>\n",
       "    <tr>\n",
       "      <th>6</th>\n",
       "      <td>6</td>\n",
       "      <td>39</td>\n",
       "      <td>234</td>\n",
       "      <td>233</td>\n",
       "      <td>5.002982</td>\n",
       "      <td>195.116302</td>\n",
       "    </tr>\n",
       "    <tr>\n",
       "      <th>7</th>\n",
       "      <td>7</td>\n",
       "      <td>12</td>\n",
       "      <td>84</td>\n",
       "      <td>245</td>\n",
       "      <td>10.476451</td>\n",
       "      <td>125.717418</td>\n",
       "    </tr>\n",
       "  </tbody>\n",
       "</table>\n",
       "</div>"
      ],
      "text/plain": [
       "   Number_of_calls  Frequency  call*freq  Cumulative Freq   (xi-u)^2  \\\n",
       "0                0         14          0               14  14.162166   \n",
       "1                1         21         21               35   7.635635   \n",
       "2                2         25         50               60   3.109105   \n",
       "3                3         43        129              103   0.582574   \n",
       "4                4         51        204              154   0.056043   \n",
       "5                5         40        200              194   1.529513   \n",
       "6                6         39        234              233   5.002982   \n",
       "7                7         12         84              245  10.476451   \n",
       "\n",
       "   (xi-u*f)^2  \n",
       "0  198.270321  \n",
       "1  160.348338  \n",
       "2   77.727613  \n",
       "3   25.050679  \n",
       "4    2.858209  \n",
       "5   61.180508  \n",
       "6  195.116302  \n",
       "7  125.717418  "
      ]
     },
     "execution_count": 14,
     "metadata": {},
     "output_type": "execute_result"
    }
   ],
   "source": [
    "import math\n",
    "\n",
    "xi_u = (df['Number_of_calls']-Mean)*(df['Number_of_calls']-Mean)\n",
    "df['(xi-u)^2']= xi_u\n",
    "xi_u_f = df['(xi-u)^2']*df['Frequency']\n",
    "df['(xi-u*f)^2']=xi_u_f\n",
    "\n",
    "x = df['(xi-u*f)^2'].sum()\n",
    "y = df['Frequency'].sum()\n",
    "z=x/y\n",
    "standard_deviation = (math.sqrt(z))\n",
    "print(\"Standard_deviation is: \",standard_deviation)\n",
    "df"
   ]
  },
  {
   "cell_type": "markdown",
   "id": "8c256555",
   "metadata": {},
   "source": [
    " ### Af> Finding Variance"
   ]
  },
  {
   "cell_type": "code",
   "execution_count": 15,
   "id": "789e698d",
   "metadata": {},
   "outputs": [
    {
     "name": "stdout",
     "output_type": "stream",
     "text": [
      "Variannce is: 3.468317162930746\n"
     ]
    }
   ],
   "source": [
    "V = df['(xi-u*f)^2'].sum()\n",
    "Z = df['Frequency'].sum()-1\n",
    "Variance = V/Z\n",
    "print('Variannce is:',Variance)"
   ]
  },
  {
   "cell_type": "markdown",
   "id": "e2774362",
   "metadata": {},
   "source": [
    "### B.Using Matplotlib, describe the above visually using a suitable graph/plot"
   ]
  },
  {
   "cell_type": "code",
   "execution_count": 16,
   "id": "94545f78",
   "metadata": {},
   "outputs": [],
   "source": [
    "import matplotlib.pyplot as plt\n",
    "import statistics"
   ]
  },
  {
   "cell_type": "code",
   "execution_count": 17,
   "id": "a087fe05",
   "metadata": {},
   "outputs": [
    {
     "data": {
      "image/png": "[encoded data removed]",
      "text/plain": [
       "<Figure size 432x288 with 1 Axes>"
      ]
     },
     "metadata": {
      "needs_background": "light"
     },
     "output_type": "display_data"
    }
   ],
   "source": [
    "\n",
    "x=df['Number_of_calls']\n",
    "y=df['Frequency']\n",
    "plt.plot(x,y)\n",
    "#plot_df.plot(kind='line',figsize=(10,5))\n",
    "plt.axvline(x=Mean,label='mean',color='r')\n",
    "plt.axvline(x=Median,label='median',color='b')\n",
    "plt.axvline(x=Mode,label='mode',color='g')\n",
    "plt.axvline(x=Range,label='range',color='c')\n",
    "plt.axvline(x=Variance,label='variance',color='m')\n",
    "# plt.axvline(x=standard_deviation,label='SD',color='m')\n",
    "plt.legend()\n",
    "plt.show()"
   ]
  },
  {
   "cell_type": "code",
   "execution_count": null,
   "id": "1bf302a2",
   "metadata": {},
   "outputs": [],
   "source": []
  },
  {
   "cell_type": "code",
   "execution_count": null,
   "id": "84252474",
   "metadata": {},
   "outputs": [],
   "source": []
  },
  {
   "cell_type": "code",
   "execution_count": null,
   "id": "bb0929c4",
   "metadata": {},
   "outputs": [],
   "source": []
  },
  {
   "cell_type": "code",
   "execution_count": null,
   "id": "74f4fff0",
   "metadata": {},
   "outputs": [],
   "source": []
  },
  {
   "cell_type": "raw",
   "id": "0bfc971b",
   "metadata": {},
   "source": [
    "2.      The following data gives the distribution of the marks of 100 students.\n",
    "\n",
    "Marks               Frequency (f)\n",
    "\n",
    "Less than 10           5\n",
    "\n",
    "Less than 20           13\n",
    "\n",
    "Less than 30           20\n",
    "\n",
    "Less than 40           32\n",
    "\n",
    "Less than 50           60\n",
    "\n",
    "Less than 60           80\n",
    "\n",
    "Less than 70           90\n",
    "\n",
    "Less than 80           100\n"
   ]
  },
  {
   "cell_type": "code",
   "execution_count": 20,
   "id": "adc8fe19",
   "metadata": {},
   "outputs": [
    {
     "data": {
      "text/plain": [
       "(   Marks_lower  Marks_upper  Mid_Marks  Frequency\n",
       " 0            0            9        4.5          5\n",
       " 1           10           19       14.5         13\n",
       " 2           20           29       24.5         20\n",
       " 3           30           39       34.5         32\n",
       " 4           40           49       44.5         60\n",
       " 5           50           59       54.5         80\n",
       " 6           60           69       64.5         90\n",
       " 7           70           79       74.5        100,\n",
       " 4.5       5\n",
       " 14.5     13\n",
       " 24.5     20\n",
       " 34.5     32\n",
       " 44.5     60\n",
       " 54.5     80\n",
       " 64.5     90\n",
       " 74.5    100\n",
       " dtype: int64)"
      ]
     },
     "execution_count": 20,
     "metadata": {},
     "output_type": "execute_result"
    }
   ],
   "source": [
    "import pandas as pd\n",
    "import numpy as np\n",
    "import matplotlib.pyplot as plt\n",
    "import statistics\n",
    "import math\n",
    "import statistics\n",
    "from operator import add\n",
    "from operator import floordiv\n",
    "from scipy.stats import skew\n",
    "from scipy.stats import kurtosis\n",
    "import numpy as np\n",
    "import pylab as p\n",
    "Marks_lower = [0,10,20,30,40,50,60,70]\n",
    "Marks_upper = [9,19,29,39,49,59,69,79]\n",
    "Frequency = [5,13,20,32,60,80,90,100]\n",
    "def mid_marks(M1,M2):\n",
    "    return (M1+M2)/2\n",
    "\n",
    "def x():\n",
    "    res_marks = list(map(mid_marks,Marks_lower,Marks_upper))\n",
    "    return res_marks\n",
    "\n",
    "S1 = pd.Series(index=x(),data=Frequency)\n",
    "\n",
    "Chart = {\n",
    "     'Marks_lower':[0,10,20,30,40,50,60,70],\n",
    "     'Marks_upper':[9,19,29,39,49,59,69,79],\n",
    "     'Mid_Marks': x(),\n",
    "     'Frequency':  [5,13,20,32,60,80,90,100]\n",
    "}\n",
    "df = pd.DataFrame(Chart)\n",
    "df,S1"
   ]
  },
  {
   "cell_type": "markdown",
   "id": "3d4cb1ea",
   "metadata": {},
   "source": [
    "### A. Writing a Python program to calculate the range and quartile of the above data"
   ]
  },
  {
   "cell_type": "code",
   "execution_count": 21,
   "id": "aa8b6124",
   "metadata": {},
   "outputs": [
    {
     "name": "stdout",
     "output_type": "stream",
     "text": [
      "1st,2nd,3rd,inter Quartile & Range values are:  18.25 , 7.800000000000001 , 82.5 , 64.25 & 95\n"
     ]
    }
   ],
   "source": [
    "Q1 = S1.quantile(q=0.25)\n",
    "Q2 = S1.quantile(q=0.05)\n",
    "Q3 = S1.quantile(q=0.75)\n",
    "IQR = Q3-Q1\n",
    "Range = df['Frequency'].max()-df['Frequency'].min()\n",
    "print(\"1st,2nd,3rd,inter Quartile & Range values are: \",Q1,',',Q2,',',Q3,',',IQR,'&', Range)"
   ]
  },
  {
   "cell_type": "markdown",
   "id": "e7bc1c6f",
   "metadata": {},
   "source": [
    "## B.Determining the coefficient of range for the above data"
   ]
  },
  {
   "cell_type": "code",
   "execution_count": 22,
   "id": "766d8714",
   "metadata": {},
   "outputs": [
    {
     "name": "stdout",
     "output_type": "stream",
     "text": [
      "Coefficient of range is: 0.9047619047619048\n"
     ]
    }
   ],
   "source": [
    "#CoefficientofRange=Highest value of frequency−Lowest value of frequency/Highest value of frequency+Lowest value of frequency\n",
    "Range = df['Frequency'].max()-df['Frequency'].min()\n",
    "Range1=df['Frequency'].max()+df['Frequency'].min()\n",
    "coff_range = Range/Range1\n",
    "print(\"Coefficient of range is:\", coff_range) "
   ]
  },
  {
   "cell_type": "markdown",
   "id": "20e4e90f",
   "metadata": {},
   "source": [
    "### C.Determine skewness and kurtosis for the above data."
   ]
  },
  {
   "cell_type": "code",
   "execution_count": 23,
   "id": "57310b80",
   "metadata": {},
   "outputs": [
    {
     "name": "stdout",
     "output_type": "stream",
     "text": [
      "Skewness : \n",
      " 0.15609386388238233\n",
      "Kurtosis : \n",
      " -1.9612727611799485\n"
     ]
    },
    {
     "data": {
      "text/plain": [
       "(None, None)"
      ]
     },
     "execution_count": 23,
     "metadata": {},
     "output_type": "execute_result"
    }
   ],
   "source": [
    "# C.Determine skewness and kurtosis for the above data.\n",
    "print(\"Skewness : \\n\",S1.skew(axis=0)),print(\"Kurtosis : \\n\",S1.kurtosis(axis=0))"
   ]
  },
  {
   "cell_type": "markdown",
   "id": "c7ac1dfe",
   "metadata": {},
   "source": [
    "### D. Representing the above data with the help of a suitable plot using Matplotlib"
   ]
  },
  {
   "cell_type": "code",
   "execution_count": 24,
   "id": "cd8af7c2",
   "metadata": {},
   "outputs": [
    {
     "data": {
      "image/png": "[encoded data removed]",
      "text/plain": [
       "<Figure size 432x288 with 1 Axes>"
      ]
     },
     "metadata": {
      "needs_background": "light"
     },
     "output_type": "display_data"
    }
   ],
   "source": [
    "boxplot=S1.plot.box(Frequency)"
   ]
  },
  {
   "cell_type": "code",
   "execution_count": null,
   "id": "92477b90",
   "metadata": {},
   "outputs": [],
   "source": []
  },
  {
   "cell_type": "code",
   "execution_count": null,
   "id": "087e8314",
   "metadata": {},
   "outputs": [],
   "source": []
  },
  {
   "cell_type": "raw",
   "id": "dbe7755a",
   "metadata": {},
   "source": [
    "3.      Write a Python program to calculate Karl Pearson’s coefficient of skewness from the following data.\n",
    "\n",
    "Marks              1          2          3          4          5          6          7\n",
    "\n",
    "No. of students     10       18         30          25          12         3          2"
   ]
  },
  {
   "cell_type": "code",
   "execution_count": 36,
   "id": "300bc730",
   "metadata": {},
   "outputs": [
    {
     "name": "stdout",
     "output_type": "stream",
     "text": [
      "Mean of the table is:  3.28\n",
      "Mode of the table is:  3\n",
      "Standard_deviation is : 1.349666625504239\n",
      "Karl pearsons coefficient of skewness is : 0.20745863808804715\n"
     ]
    },
    {
     "data": {
      "text/html": [
       "<div>\n",
       "<style scoped>\n",
       "    .dataframe tbody tr th:only-of-type {\n",
       "        vertical-align: middle;\n",
       "    }\n",
       "\n",
       "    .dataframe tbody tr th {\n",
       "        vertical-align: top;\n",
       "    }\n",
       "\n",
       "    .dataframe thead th {\n",
       "        text-align: right;\n",
       "    }\n",
       "</style>\n",
       "<table border=\"1\" class=\"dataframe\">\n",
       "  <thead>\n",
       "    <tr style=\"text-align: right;\">\n",
       "      <th></th>\n",
       "      <th>Marks</th>\n",
       "      <th>Frequency</th>\n",
       "      <th>Marks*freq</th>\n",
       "      <th>Cumulative Freq</th>\n",
       "      <th>(xi-u)^2</th>\n",
       "      <th>(xi-u*f)^2</th>\n",
       "    </tr>\n",
       "  </thead>\n",
       "  <tbody>\n",
       "    <tr>\n",
       "      <th>0</th>\n",
       "      <td>1</td>\n",
       "      <td>10</td>\n",
       "      <td>10</td>\n",
       "      <td>10</td>\n",
       "      <td>5.1984</td>\n",
       "      <td>51.9840</td>\n",
       "    </tr>\n",
       "    <tr>\n",
       "      <th>1</th>\n",
       "      <td>2</td>\n",
       "      <td>18</td>\n",
       "      <td>36</td>\n",
       "      <td>28</td>\n",
       "      <td>1.6384</td>\n",
       "      <td>29.4912</td>\n",
       "    </tr>\n",
       "    <tr>\n",
       "      <th>2</th>\n",
       "      <td>3</td>\n",
       "      <td>30</td>\n",
       "      <td>90</td>\n",
       "      <td>58</td>\n",
       "      <td>0.0784</td>\n",
       "      <td>2.3520</td>\n",
       "    </tr>\n",
       "    <tr>\n",
       "      <th>3</th>\n",
       "      <td>4</td>\n",
       "      <td>25</td>\n",
       "      <td>100</td>\n",
       "      <td>83</td>\n",
       "      <td>0.5184</td>\n",
       "      <td>12.9600</td>\n",
       "    </tr>\n",
       "    <tr>\n",
       "      <th>4</th>\n",
       "      <td>5</td>\n",
       "      <td>12</td>\n",
       "      <td>60</td>\n",
       "      <td>95</td>\n",
       "      <td>2.9584</td>\n",
       "      <td>35.5008</td>\n",
       "    </tr>\n",
       "    <tr>\n",
       "      <th>5</th>\n",
       "      <td>6</td>\n",
       "      <td>3</td>\n",
       "      <td>18</td>\n",
       "      <td>98</td>\n",
       "      <td>7.3984</td>\n",
       "      <td>22.1952</td>\n",
       "    </tr>\n",
       "    <tr>\n",
       "      <th>6</th>\n",
       "      <td>7</td>\n",
       "      <td>2</td>\n",
       "      <td>14</td>\n",
       "      <td>100</td>\n",
       "      <td>13.8384</td>\n",
       "      <td>27.6768</td>\n",
       "    </tr>\n",
       "  </tbody>\n",
       "</table>\n",
       "</div>"
      ],
      "text/plain": [
       "   Marks  Frequency  Marks*freq  Cumulative Freq  (xi-u)^2  (xi-u*f)^2\n",
       "0      1         10          10               10    5.1984     51.9840\n",
       "1      2         18          36               28    1.6384     29.4912\n",
       "2      3         30          90               58    0.0784      2.3520\n",
       "3      4         25         100               83    0.5184     12.9600\n",
       "4      5         12          60               95    2.9584     35.5008\n",
       "5      6          3          18               98    7.3984     22.1952\n",
       "6      7          2          14              100   13.8384     27.6768"
      ]
     },
     "execution_count": 36,
     "metadata": {},
     "output_type": "execute_result"
    }
   ],
   "source": [
    "import pandas as pd\n",
    "import numpy as np\n",
    "import matplotlib.pyplot as plt\n",
    "import statistics\n",
    "import math\n",
    "import statistics\n",
    "from operator import add\n",
    "from operator import floordiv\n",
    "from scipy.stats import skew\n",
    "from scipy.stats import kurtosis\n",
    "import numpy as np\n",
    "import pylab as p\n",
    "\n",
    "Karl_table={\n",
    "    'Marks':[1,2,3,4,5,6,7],\n",
    "    'Frequency':[10,18,30,25,12,3,2]\n",
    "}\n",
    "df=pd.DataFrame(Karl_table)\n",
    "df\n",
    "marks_fre= df['Marks']*df['Frequency']\n",
    "df['Marks*freq']= marks_fre\n",
    "df\n",
    "\n",
    "Mean = df['Marks*freq'].sum()/df['Frequency'].sum()\n",
    "print(\"Mean of the table is: \", Mean)\n",
    "\n",
    "df['Cumulative Freq']= df['Frequency'].cumsum()\n",
    "df\n",
    "\n",
    "def max_freq_val():\n",
    "    z=df['Frequency'].max()\n",
    "    return z\n",
    "max_freq_val()\n",
    "def max_freq_index():\n",
    "    for j,count in enumerate(df['Frequency']):\n",
    "        while count == max_freq_val():\n",
    "            return j\n",
    "max_freq_index()\n",
    "Mode = df['Marks'][max_freq_index()]\n",
    "print('Mode of the table is: ',Mode)\n",
    "\n",
    "xi_u = (df['Marks']-Mean)*(df['Marks']-Mean)\n",
    "df['(xi-u)^2']= xi_u\n",
    "xi_u_f = df['(xi-u)^2']*df['Frequency']\n",
    "df['(xi-u*f)^2']=xi_u_f\n",
    "\n",
    "x = df['(xi-u*f)^2'].sum()\n",
    "y = df['Frequency'].sum()\n",
    "z=x/y\n",
    "standard_deviation = (math.sqrt(z))\n",
    "print(\"Standard_deviation is :\", standard_deviation)\n",
    "\n",
    "\n",
    "karl_pearson_skew = (Mean-Mode)/standard_deviation\n",
    "print('Karl pearsons coefficient of skewness is :',karl_pearson_skew) \n",
    "df"
   ]
  },
  {
   "cell_type": "code",
   "execution_count": null,
   "id": "5a6ecb5e",
   "metadata": {},
   "outputs": [],
   "source": []
  },
  {
   "cell_type": "raw",
   "id": "3cd5ad51",
   "metadata": {},
   "source": [
    "4.      First four moments about mean of a distribution are 0, 2.5, 0.7 and 18.75. \n",
    "       write a Python program for finding the coefficient of skewness and kurtosis."
   ]
  },
  {
   "cell_type": "code",
   "execution_count": 1,
   "id": "3d95ef3c",
   "metadata": {},
   "outputs": [
    {
     "name": "stdout",
     "output_type": "stream",
     "text": [
      "Skewness & kurtosis are: 0.054879999999999984 & 3.0\n"
     ]
    }
   ],
   "source": [
    "# Assigning the four moments are as mu1,mu2,mu3,mu4. \n",
    "mu1 = 0 \n",
    "mu2 = 2.5 \n",
    "mu3 = 0.7 \n",
    "mu4 = 18.75\n",
    "x = (mu3)*(mu3)*(mu3)\n",
    "y = (mu2)*(mu2)\n",
    "skewness = x/y\n",
    "kurtosis = mu4/y\n",
    "print(\"Skewness & kurtosis are:\", skewness ,'&', kurtosis)"
   ]
  },
  {
   "cell_type": "code",
   "execution_count": null,
   "id": "c67e658c",
   "metadata": {},
   "outputs": [],
   "source": []
  }
 ],
 "metadata": {
  "kernelspec": {
   "display_name": "Python 3",
   "language": "python",
   "name": "python3"
  },
  "language_info": {
   "codemirror_mode": {
    "name": "ipython",
    "version": 3
   },
   "file_extension": ".py",
   "mimetype": "text/x-python",
   "name": "python",
   "nbconvert_exporter": "python",
   "pygments_lexer": "ipython3",
   "version": "3.8.6"
  }
 },
 "nbformat": 4,
 "nbformat_minor": 5
}
